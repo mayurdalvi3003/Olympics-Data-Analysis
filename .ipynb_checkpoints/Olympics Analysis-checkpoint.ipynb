{
 "cells": [
  {
   "cell_type": "code",
   "execution_count": null,
   "id": "4dbd88a8-6020-49a0-91f2-b19a9b060d62",
   "metadata": {},
   "outputs": [],
   "source": [
    "import pandas as pd \n",
    "import numpy as np \n",
    "import plotly.express as px\n",
    "import matplotlib.pyplot as plt \n",
    "import seaborn as sns "
   ]
  },
  {
   "cell_type": "code",
   "execution_count": null,
   "id": "5733164a-f388-4dfc-98ae-a319ae304637",
   "metadata": {},
   "outputs": [],
   "source": [
    "df = pd.read_csv(\"athlete_events.csv\")\n",
    "df1 = pd.read_csv(\"noc_regions.csv\")"
   ]
  },
  {
   "cell_type": "code",
   "execution_count": null,
   "id": "9c26450b-e7d9-455b-a1f7-ef7fa75c77f7",
   "metadata": {},
   "outputs": [],
   "source": [
    "df.head()"
   ]
  },
  {
   "cell_type": "code",
   "execution_count": null,
   "id": "24193ed2-9218-4543-bb54-9731b4e99247",
   "metadata": {},
   "outputs": [],
   "source": [
    "df = df[df[\"Season\"] ==\"Summer\"]"
   ]
  },
  {
   "cell_type": "code",
   "execution_count": null,
   "id": "12fe087b-a1d9-4682-95ed-9776657c0aa3",
   "metadata": {},
   "outputs": [],
   "source": [
    "df.shape"
   ]
  },
  {
   "cell_type": "code",
   "execution_count": null,
   "id": "4775eeb1-08c3-4257-a724-bec9ffd70e10",
   "metadata": {},
   "outputs": [],
   "source": [
    "df.tail()"
   ]
  },
  {
   "cell_type": "code",
   "execution_count": null,
   "id": "0a3089b4-9637-4a0e-82e7-a088426cc5df",
   "metadata": {},
   "outputs": [],
   "source": [
    "df = df.merge(df1  , on =  \"NOC\" , how = \"left\")"
   ]
  },
  {
   "cell_type": "code",
   "execution_count": null,
   "id": "021f5b20-291a-4af3-8f0b-6ecb1231479b",
   "metadata": {},
   "outputs": [],
   "source": [
    "df[\"region\"].unique().shape"
   ]
  },
  {
   "cell_type": "code",
   "execution_count": null,
   "id": "05f95625-c3b4-4571-9e99-262e27445453",
   "metadata": {},
   "outputs": [],
   "source": [
    "df.isnull().sum()"
   ]
  },
  {
   "cell_type": "code",
   "execution_count": null,
   "id": "69701f46-255b-41a3-9021-26a4b37f20f3",
   "metadata": {},
   "outputs": [],
   "source": [
    "df.duplicated().sum()"
   ]
  },
  {
   "cell_type": "code",
   "execution_count": null,
   "id": "4aecb03c-378f-4bad-885c-ea4ab7433e5e",
   "metadata": {},
   "outputs": [],
   "source": [
    "df.drop_duplicates(inplace = True)"
   ]
  },
  {
   "cell_type": "code",
   "execution_count": null,
   "id": "07f53604-0752-4963-94d2-a213061e1fae",
   "metadata": {},
   "outputs": [],
   "source": [
    "pd.get_dummies(df[\"Medal\"])"
   ]
  },
  {
   "cell_type": "code",
   "execution_count": null,
   "id": "f6fdf58d-f767-4e81-b3fa-547c81630444",
   "metadata": {},
   "outputs": [],
   "source": [
    "# now i have to horizontally attached this dummies data frame with my original dataframe\n",
    "df = pd.concat([df  ,pd.get_dummies(df[\"Medal\"])], axis = 1)"
   ]
  },
  {
   "cell_type": "code",
   "execution_count": null,
   "id": "f98214e4-aafa-4cae-90b3-96ce0027538d",
   "metadata": {},
   "outputs": [],
   "source": [
    "'''\n",
    "here i am sorting the data on the top of the \"Gold\" and then i am arranging in descending order and \n",
    "then resetting the index this particular data has been organised by the each and every athlet and \n",
    "according to the reality india has won 9 gold medal and our analysis shows india has won the 131 gold \n",
    "medals because it is calculating with respect to the all athletes  \n",
    "'''\n",
    "df.groupby(\"NOC\").sum()[['Gold','Silver','Bronze']].sort_values(\"Gold\" , ascending = False).reset_index()\n"
   ]
  },
  {
   "cell_type": "code",
   "execution_count": null,
   "id": "eb46b956-af3e-49a8-bcec-d012fea90441",
   "metadata": {},
   "outputs": [],
   "source": [
    "# to solve the above issue i will remove all the duplicates entry on the basis of following parameter \n",
    "\n",
    "medal_tally = df.drop_duplicates(subset = [\"Team\", 'NOC', 'Year',\"City\",'Sport','Event','Medal'])\n",
    "medal_tally"
   ]
  },
  {
   "cell_type": "code",
   "execution_count": null,
   "id": "c5552f5b-0414-4d99-8f1f-65946f53e592",
   "metadata": {},
   "outputs": [],
   "source": [
    "medal_tally = medal_tally.groupby(\"region\").sum()[['Gold','Silver','Bronze']].sort_values(\"Gold\" , ascending = False).reset_index()\n",
    "medal_tally"
   ]
  },
  {
   "cell_type": "code",
   "execution_count": null,
   "id": "19a1301f-3231-4936-9c2e-cadc6640a799",
   "metadata": {},
   "outputs": [],
   "source": [
    "medal_tally[medal_tally[\"region\"] == \"India\"]"
   ]
  },
  {
   "cell_type": "code",
   "execution_count": null,
   "id": "0475e906-52a8-4294-a93e-51b8d6e590fc",
   "metadata": {},
   "outputs": [],
   "source": [
    "medal_tally['Total'] = medal_tally[\"Gold\"] +medal_tally[\"Silver\"]+medal_tally[\"Bronze\"]"
   ]
  },
  {
   "cell_type": "code",
   "execution_count": null,
   "id": "1a47accd-25fa-4d6b-91cb-38f13abdd717",
   "metadata": {},
   "outputs": [],
   "source": []
  },
  {
   "cell_type": "code",
   "execution_count": null,
   "id": "a78b8767-11fe-4593-8154-32d2af41b4ca",
   "metadata": {},
   "outputs": [],
   "source": [
    "def medal_tally(df):\n",
    "    medal_tally = df.drop_duplicates(subset = [\"Team\", 'NOC', 'Year',\"City\",'Sport','Event','Medal'])\n",
    "    medal_tally = medal_tally.groupby(\"region\").sum()[['Gold','Silver','Bronze']].sort_values(\"Gold\" , ascending = False).reset_index()\n",
    "    \n",
    "    medal_tally['Total'] = medal_tally[\"Gold\"] +medal_tally[\"Silver\"]+medal_tally[\"Bronze\"]\n",
    "    medal_tally[\"Gold\"] = medal_tally[\"Gold\"].astype(\"int\")\n",
    "    medal_tally[\"Silver\"] = medal_tally[\"Silver\"].astype(\"int\")\n",
    "    medal_tally[\"Bronze\"] = medal_tally[\"Bronze\"].astype(\"int\")\n",
    "    medal_tally[\"Total\"] = medal_tally[\"Total\"].astype(\"int\")\n",
    "    return medal_tally\n",
    "\n"
   ]
  },
  {
   "cell_type": "code",
   "execution_count": null,
   "id": "8e60d0f6-6e0f-4067-a1b2-e065a5da02ee",
   "metadata": {},
   "outputs": [],
   "source": [
    "# extracting the unique values from all the year \n",
    "\n",
    "years = df['Year'].unique().tolist()\n",
    "years.sort()\n",
    "years.insert(0,'Overall')"
   ]
  },
  {
   "cell_type": "code",
   "execution_count": null,
   "id": "813039b6-ae50-4f88-82ad-2e5584baa3d6",
   "metadata": {},
   "outputs": [],
   "source": [
    "years"
   ]
  },
  {
   "cell_type": "code",
   "execution_count": null,
   "id": "9f07108a-6d17-4707-8a47-3d073763276c",
   "metadata": {},
   "outputs": [],
   "source": [
    "# extracting the unique countries from all the year \n",
    "\n",
    "country = np.unique(df[\"region\"].dropna().values).tolist()\n",
    "country.sort()\n",
    "country.insert(0,'Overall')\n",
    "country"
   ]
  },
  {
   "cell_type": "code",
   "execution_count": null,
   "id": "51ad3ac8-ad1d-4ce1-a521-61c63eecc9a6",
   "metadata": {},
   "outputs": [],
   "source": [
    "medal_df = df.drop_duplicates(subset = [\"Team\", 'NOC', 'Year',\"City\",'Sport','Event','Medal'])"
   ]
  },
  {
   "cell_type": "code",
   "execution_count": null,
   "id": "d66c98c5-f918-45c3-a79c-83c980576594",
   "metadata": {},
   "outputs": [],
   "source": []
  },
  {
   "cell_type": "code",
   "execution_count": null,
   "id": "b160e575-efaa-4691-8a5c-6ca15aa18be9",
   "metadata": {},
   "outputs": [],
   "source": [
    "def fetch_medal_tally(df , year , country):\n",
    "    medal_df = df.drop_duplicates(subset = [\"Team\", 'NOC', 'Year',\"City\",'Sport','Event','Medal'])\n",
    "    flag = 0\n",
    "    if year == \"Overall\" and country =='Overall':\n",
    "        temp_df = medal_df \n",
    "        \n",
    "    if year ==\"Overall\" and country != 'Overall':\n",
    "        flag = 1\n",
    "        temp_df = medal_df[medal_df['region'] == country]\n",
    "        \n",
    "    if year !=\"Overall\" and country == 'Overall':\n",
    "        temp_df = medal_df[medal_df['Year'] == year]\n",
    "        \n",
    "    if year !=\"Overall\" and country != 'Overall':\n",
    "        temp_df = medal_df[(medal_df[\"Year\"] == year) & (medal_df['region'] == country)]\n",
    "\n",
    "    if flag ==1:\n",
    "        x = temp_df.groupby(\"Year\").sum()[['Gold','Silver','Bronze']].sort_values(\"Year\" , ascending = True).reset_index()\n",
    "    else:\n",
    "        x = temp_df.groupby(\"region\").sum()[['Gold','Silver','Bronze']].sort_values(\"Gold\" , ascending = False).reset_index()\n",
    "    x['Total'] = x[\"Gold\"] + x[\"Silver\"] + x[\"Bronze\"]\n",
    "    print(x)"
   ]
  },
  {
   "cell_type": "code",
   "execution_count": null,
   "id": "b2330f7f-d98d-480f-9dc4-66de16948bac",
   "metadata": {},
   "outputs": [],
   "source": [
    "fetch_medal_tally(medal_df , year = 1900 , country = \"India\")"
   ]
  },
  {
   "cell_type": "markdown",
   "id": "a1806391-405f-424a-b11f-53f228501ad6",
   "metadata": {},
   "source": [
    "# Olympics overall analysis \n",
    "- no of editions\n",
    "- no.of cities\n",
    "- no.of events/sports\n",
    "- no.of athletes\n",
    "- participating nations"
   ]
  },
  {
   "cell_type": "code",
   "execution_count": null,
   "id": "0243ad7b-5f27-45bb-8ae2-f6a7d3aff8d6",
   "metadata": {},
   "outputs": [],
   "source": [
    "# no of editions\n",
    "\n",
    "df[\"Year\"].unique().shape[0]\n",
    "\n",
    "# here when i google it then i got answer 28 means total 28 olympics game was played in 4 year of intervals \n",
    "# in 1906 olympics was played but it was not considered \n",
    "# thats why i am deleting 1 from 29 and i will get 28 \n",
    "\n",
    "df[\"Year\"].unique().shape[0]-1"
   ]
  },
  {
   "cell_type": "code",
   "execution_count": null,
   "id": "a1f8da78-4e26-43da-b053-30182431fe57",
   "metadata": {},
   "outputs": [],
   "source": [
    "# No of cities\n",
    "\n",
    "df[\"City\"].unique().shape[0]"
   ]
  },
  {
   "cell_type": "code",
   "execution_count": null,
   "id": "f22609ee-0760-4bee-96fc-fcb6bca15a4b",
   "metadata": {},
   "outputs": [],
   "source": [
    "# no.of events/sports\n",
    "\n",
    "print(df[\"Sport\"].unique().shape[0])\n",
    "print(df['Event'].unique().shape[0])"
   ]
  },
  {
   "cell_type": "code",
   "execution_count": null,
   "id": "bba7b72e-21a3-49be-8e2a-83c91b592559",
   "metadata": {},
   "outputs": [],
   "source": [
    "# no.of athletes\n",
    "\n",
    "print(df[\"Name\"].unique().shape[0])"
   ]
  },
  {
   "cell_type": "code",
   "execution_count": null,
   "id": "b5e2e91b-3f62-4e74-b391-a32513ea0f90",
   "metadata": {},
   "outputs": [],
   "source": [
    "# participating nations\n",
    "\n",
    "print(df[\"region\"].unique().shape[0])"
   ]
  },
  {
   "cell_type": "code",
   "execution_count": null,
   "id": "3595f0aa-ec43-4c07-b7d1-29ef9af8c3ce",
   "metadata": {},
   "outputs": [],
   "source": [
    "# i want to fetch overall the year how many countries were participated\n",
    "\n",
    "nations_over_time = df.drop_duplicates(['Year' ,'region'])[\"Year\"].value_counts().reset_index().sort_values(\"Year\")\n",
    "nations_over_time"
   ]
  },
  {
   "cell_type": "code",
   "execution_count": null,
   "id": "a29a65fe-333b-4481-bf8f-71efe5a39a9a",
   "metadata": {},
   "outputs": [],
   "source": [
    "# making line plot using line \n",
    "fig = px.line(nations_over_time , x = \"Year\" , y = \"count\")\n",
    "fig.show()"
   ]
  },
  {
   "cell_type": "code",
   "execution_count": null,
   "id": "75d2cee9-f83b-423f-af99-c30a442a142e",
   "metadata": {},
   "outputs": [],
   "source": [
    "# over the years no.of events happened in olympics\n",
    "\n",
    "df.drop_duplicates(['Year' ,'Event'])[\"Year\"].value_counts().reset_index().sort_values(\"Year\")\n"
   ]
  },
  {
   "cell_type": "code",
   "execution_count": null,
   "id": "eb8b4346-63a2-4bad-86ed-d7e0eedd7600",
   "metadata": {},
   "outputs": [],
   "source": [
    "# athletes over time \n",
    "\n",
    "athletes = df.drop_duplicates(['Year' ,'Name'])[\"Year\"].value_counts().reset_index().sort_values(\"Year\")\n",
    "athletes"
   ]
  },
  {
   "cell_type": "code",
   "execution_count": null,
   "id": "f9a774b3-2006-442f-a494-fe5245a0678d",
   "metadata": {},
   "outputs": [],
   "source": [
    "# show the heatmap \n",
    "\n",
    "x = df.drop_duplicates(['Year' ,'Sport' , 'Event'])\n"
   ]
  },
  {
   "cell_type": "code",
   "execution_count": null,
   "id": "52ec04db-eba7-4c28-a429-f4b06a173a35",
   "metadata": {},
   "outputs": [],
   "source": [
    "plt.figure(figsize=[20,20])\n",
    "sns.heatmap(x.pivot_table(index=\"Sport\" , columns='Year' , values='Event' , aggfunc=\"count\").fillna(0).astype(\"int\") , annot=True)"
   ]
  },
  {
   "cell_type": "code",
   "execution_count": null,
   "id": "028052ab-7ea1-4ade-bfa8-0671e4bdb410",
   "metadata": {},
   "outputs": [],
   "source": [
    "# MOSt succesfull athletes in olympics\n",
    "\n",
    "def most_succesfull_athlete(df , sport):\n",
    "    temp_df = df.dropna(subset = [\"Medal\"])\n",
    "    if sport != \"Overall\":\n",
    "        temp_df = temp_df[temp_df[\"Sport\"] ==sport]\n",
    "\n",
    "    x = temp_df[\"Name\"].value_counts().reset_index().head(15).merge(df , how = \"left\" ,on = \"Name\")[[\"Name\" ,\"count\" ,'Sport','region']].drop_duplicates()\n",
    "    x.rename(columns = {'count':'Medals'} , inplace = True)\n",
    "    return x"
   ]
  },
  {
   "cell_type": "code",
   "execution_count": null,
   "id": "f6b8da02-1613-4cf9-a19d-0f9181ca9bd9",
   "metadata": {},
   "outputs": [],
   "source": [
    "most_succesfull_athlete(df, \"Gymnastics\")"
   ]
  },
  {
   "cell_type": "markdown",
   "id": "4d200199-ab55-4241-98e4-5fc5e8b6fc2f",
   "metadata": {},
   "source": [
    "# Country wise analysis \n",
    "- country wise medal tally per year\n",
    "- what countries are good at heatmap\n",
    "- most succesfull athletes (top-10)"
   ]
  },
  {
   "cell_type": "code",
   "execution_count": null,
   "id": "82d6e965-9c5a-4d52-a1f8-2ccae2e71341",
   "metadata": {},
   "outputs": [],
   "source": [
    "# country wise medal tally per year\n",
    "\n",
    "temp_df = df.dropna(subset = [\"Medal\"])\n",
    "temp_df.drop_duplicates(subset =['Team','NOC','Games','Year','City','Sport','Event','Medal'] , inplace = True)"
   ]
  },
  {
   "cell_type": "code",
   "execution_count": null,
   "id": "24412ed8-d71a-4deb-9b8e-fc85a94b41aa",
   "metadata": {},
   "outputs": [],
   "source": [
    "new_df = temp_df[temp_df['region'] ==\"India\"]\n",
    "final_df = new_df.groupby('Year').count()[\"Medal\"].reset_index()\n",
    "final_df"
   ]
  },
  {
   "cell_type": "code",
   "execution_count": null,
   "id": "fd9eff18-1049-432b-b7b2-22fd266d0dda",
   "metadata": {},
   "outputs": [],
   "source": [
    "# ploting a graph \n",
    "fig = px.line(final_df , x = \"Year\" , y = \"Medal\")\n",
    "fig.show()"
   ]
  },
  {
   "cell_type": "code",
   "execution_count": null,
   "id": "04845d23-3492-437e-8fa7-236f87c41125",
   "metadata": {},
   "outputs": [],
   "source": [
    "# plotting the heatmap\n",
    "plt.figure(figsize=(20,20))\n",
    "new_df = temp_df[temp_df['region'] ==\"UK\"]\n",
    "\n",
    "sns.heatmap(new_df.pivot_table(index = 'Sport' ,columns = 'Year' ,values = 'Medal' , aggfunc = 'count').fillna(0) , annot= True)"
   ]
  },
  {
   "cell_type": "code",
   "execution_count": null,
   "id": "12cb45fd-5394-48d9-b858-e62c1db8a3f8",
   "metadata": {},
   "outputs": [],
   "source": [
    "# Most succesful athletes countrywise(top-10)\n",
    "\n",
    "def most_succesfull_athlete_countrywise(df , country):\n",
    "    temp_df = df.dropna(subset = [\"Medal\"])\n",
    "    temp_df = temp_df[temp_df[\"region\"] == country]\n",
    "\n",
    "    x = temp_df[\"Name\"].value_counts().reset_index().head(15).merge(df , how = \"left\" ,on = \"Name\")[[\"Name\" ,\"count\" ,'Sport','region']].drop_duplicates()\n",
    "    x.rename(columns = {'count':'Medals'} , inplace = True)\n",
    "    return x"
   ]
  },
  {
   "cell_type": "code",
   "execution_count": null,
   "id": "c1952a4d-94b3-43d5-bca2-42cf788e1646",
   "metadata": {},
   "outputs": [],
   "source": [
    "most_succesfull_athlete_countrywise(df , 'USA')"
   ]
  },
  {
   "cell_type": "markdown",
   "id": "581eb386-ae75-4290-b7b3-c316160fde38",
   "metadata": {},
   "source": [
    "# Athlet wise analysis "
   ]
  },
  {
   "cell_type": "code",
   "execution_count": null,
   "id": "d00280ec-8a25-4cea-84ce-636a0d249fe3",
   "metadata": {},
   "outputs": [],
   "source": [
    "import plotly.figure_factory as ff"
   ]
  },
  {
   "cell_type": "code",
   "execution_count": 50,
   "id": "0788301a-640d-489c-b192-ef574cea2b89",
   "metadata": {},
   "outputs": [
    {
     "data": {
      "text/plain": [
       "0         24.0\n",
       "1         23.0\n",
       "2         24.0\n",
       "3         34.0\n",
       "4         18.0\n",
       "          ... \n",
       "222544    19.0\n",
       "222546    23.0\n",
       "222548    21.0\n",
       "222549    24.0\n",
       "222551    33.0\n",
       "Name: Age, Length: 116885, dtype: float64"
      ]
     },
     "execution_count": 50,
     "metadata": {},
     "output_type": "execute_result"
    }
   ],
   "source": [
    "athlete_df = df.drop_duplicates(subset  =['Name' ,'region'])\n",
    "athlete_df[\"Age\"]"
   ]
  },
  {
   "cell_type": "code",
   "execution_count": null,
   "id": "81a659ae-d5db-4a4e-b5f5-4219334dedc3",
   "metadata": {},
   "outputs": [],
   "source": [
    "athlete_df[\"Age\"].dropna()"
   ]
  },
  {
   "cell_type": "code",
   "execution_count": null,
   "id": "8f8dd7e7-51e6-4bc8-aca1-240f82a06a31",
   "metadata": {},
   "outputs": [],
   "source": [
    "fig = ff.create_distplot([athlete_df[\"Age\"].dropna()],['Age Distribution'] , show_hist=False , show_rug= False)\n",
    "fig.show()"
   ]
  },
  {
   "cell_type": "code",
   "execution_count": null,
   "id": "2519227f-8074-4d8f-8618-07cfd3b4c1f0",
   "metadata": {},
   "outputs": [],
   "source": [
    "x1 = athlete_df[\"Age\"].dropna()\n",
    "x2 = athlete_df[athlete_df['Medal'] =='Gold']['Age'].dropna()\n",
    "x3 = athlete_df[athlete_df['Medal'] =='Silver']['Age'].dropna()\n",
    "x4 = athlete_df[athlete_df['Medal'] =='Bronze']['Age'].dropna()"
   ]
  },
  {
   "cell_type": "code",
   "execution_count": null,
   "id": "fb694753-0efe-4bca-bed7-47a7d408c674",
   "metadata": {},
   "outputs": [],
   "source": [
    "fig = ff.create_distplot([x1, x2,x3,x4],['Overall Age' ,'Gold Medalist' ,'Silver Medalist' ,'Bronze Medalist'] , show_hist=False , show_rug= False)\n",
    "fig.show()"
   ]
  },
  {
   "cell_type": "code",
   "execution_count": null,
   "id": "c05efd64-b588-4905-a887-6d27c52ec321",
   "metadata": {},
   "outputs": [],
   "source": [
    "x = []\n",
    "name = []\n",
    "famous_sports = ['Basketball', 'Judo', 'Football', 'Tug-Of-War', 'Athletics',\n",
    "                     'Swimming', 'Badminton', 'Sailing', 'Gymnastics',\n",
    "                     'Art Competitions', 'Handball', 'Weightlifting', 'Wrestling',\n",
    "                     'Water Polo', 'Hockey', 'Rowing', 'Fencing',\n",
    "                     'Shooting', 'Boxing', 'Taekwondo', 'Cycling', 'Diving', 'Canoeing',\n",
    "                     'Tennis', 'Golf', 'Softball', 'Archery',\n",
    "                     'Volleyball', 'Synchronized Swimming', 'Table Tennis', 'Baseball',\n",
    "                     'Rhythmic Gymnastics', 'Rugby Sevens',\n",
    "                     'Beach Volleyball', 'Triathlon', 'Rugby', 'Polo', 'Ice Hockey']\n",
    "for sport in famous_sports:\n",
    "        temp_df = athlete_df[athlete_df['Sport'] == sport]\n",
    "        x.append(temp_df[temp_df['Medal'] == 'Gold']['Age'].dropna())\n",
    "        name.append(sport)\n",
    "\n",
    "fig = ff.create_distplot(x, name, show_hist=False, show_rug=False)\n",
    "fig.update_layout(autosize=False, width=1000, height=600)\n",
    "st.title(\"Distribution of Age wrt Sports(Gold Medalist)\")\n",
    "st.plotly_chart(fig)"
   ]
  },
  {
   "cell_type": "code",
   "execution_count": 51,
   "id": "041c3c18-4375-4d1b-854f-e7576faa2a58",
   "metadata": {},
   "outputs": [
    {
     "name": "stderr",
     "output_type": "stream",
     "text": [
      "C:\\Users\\Mayur Dalvi\\AppData\\Local\\Temp\\ipykernel_17892\\3658630045.py:1: FutureWarning:\n",
      "\n",
      "A value is trying to be set on a copy of a DataFrame or Series through chained assignment using an inplace method.\n",
      "The behavior will change in pandas 3.0. This inplace method will never work because the intermediate object on which we are setting values always behaves as a copy.\n",
      "\n",
      "For example, when doing 'df[col].method(value, inplace=True)', try using 'df.method({col: value}, inplace=True)' or df[col] = df[col].method(value) instead, to perform the operation inplace on the original object.\n",
      "\n",
      "\n",
      "\n"
     ]
    }
   ],
   "source": [
    "athlete_df[\"Medal\"].fillna(\"NO Medal\" , inplace = True)"
   ]
  },
  {
   "cell_type": "code",
   "execution_count": 59,
   "id": "8e50e1c3-5241-41c8-9f13-893b094568dc",
   "metadata": {},
   "outputs": [
    {
     "ename": "TypeError",
     "evalue": "scatterplot() takes from 0 to 1 positional arguments but 2 positional arguments (and 2 keyword-only arguments) were given",
     "output_type": "error",
     "traceback": [
      "\u001b[1;31m---------------------------------------------------------------------------\u001b[0m",
      "\u001b[1;31mTypeError\u001b[0m                                 Traceback (most recent call last)",
      "Cell \u001b[1;32mIn[59], line 3\u001b[0m\n\u001b[0;32m      1\u001b[0m plt\u001b[38;5;241m.\u001b[39mfigure(figsize \u001b[38;5;241m=\u001b[39m (\u001b[38;5;241m10\u001b[39m,\u001b[38;5;241m10\u001b[39m))\n\u001b[0;32m      2\u001b[0m temp_df \u001b[38;5;241m=\u001b[39m athlete_df[athlete_df[\u001b[38;5;124m\"\u001b[39m\u001b[38;5;124mSport\u001b[39m\u001b[38;5;124m\"\u001b[39m] \u001b[38;5;241m==\u001b[39m \u001b[38;5;124m'\u001b[39m\u001b[38;5;124mAthletics\u001b[39m\u001b[38;5;124m'\u001b[39m]\n\u001b[1;32m----> 3\u001b[0m \u001b[43msns\u001b[49m\u001b[38;5;241;43m.\u001b[39;49m\u001b[43mscatterplot\u001b[49m\u001b[43m(\u001b[49m\u001b[43mtemp_df\u001b[49m\u001b[43m[\u001b[49m\u001b[38;5;124;43m'\u001b[39;49m\u001b[38;5;124;43mWeight\u001b[39;49m\u001b[38;5;124;43m'\u001b[39;49m\u001b[43m]\u001b[49m\u001b[43m,\u001b[49m\u001b[43m \u001b[49m\u001b[43mtemp_df\u001b[49m\u001b[43m[\u001b[49m\u001b[38;5;124;43m'\u001b[39;49m\u001b[38;5;124;43mHeight\u001b[39;49m\u001b[38;5;124;43m'\u001b[39;49m\u001b[43m]\u001b[49m\u001b[43m \u001b[49m\u001b[43m,\u001b[49m\u001b[43m \u001b[49m\u001b[43mhue\u001b[49m\u001b[43m \u001b[49m\u001b[38;5;241;43m=\u001b[39;49m\u001b[43m \u001b[49m\u001b[43mtemp_df\u001b[49m\u001b[43m[\u001b[49m\u001b[38;5;124;43m\"\u001b[39;49m\u001b[38;5;124;43mMedal\u001b[39;49m\u001b[38;5;124;43m\"\u001b[39;49m\u001b[43m]\u001b[49m\u001b[43m \u001b[49m\u001b[43m,\u001b[49m\u001b[43m \u001b[49m\u001b[43mstyle\u001b[49m\u001b[43m \u001b[49m\u001b[38;5;241;43m=\u001b[39;49m\u001b[43m \u001b[49m\u001b[43mtemp_df\u001b[49m\u001b[43m[\u001b[49m\u001b[38;5;124;43m'\u001b[39;49m\u001b[38;5;124;43mSex\u001b[39;49m\u001b[38;5;124;43m'\u001b[39;49m\u001b[43m]\u001b[49m\u001b[43m)\u001b[49m\n",
      "\u001b[1;31mTypeError\u001b[0m: scatterplot() takes from 0 to 1 positional arguments but 2 positional arguments (and 2 keyword-only arguments) were given"
     ]
    },
    {
     "data": {
      "text/plain": [
       "<Figure size 1000x1000 with 0 Axes>"
      ]
     },
     "metadata": {},
     "output_type": "display_data"
    }
   ],
   "source": [
    "plt.figure(figsize = (10,10))\n",
    "temp_df = athlete_df[athlete_df[\"Sport\"] == 'Athletics']\n",
    "sns.scatterplot(temp_df['Weight'], temp_df['Height'] , hue = temp_df[\"Medal\"] , style = temp_df['Sex'])"
   ]
  },
  {
   "cell_type": "code",
   "execution_count": 62,
   "id": "f6c74873-9f72-4768-a07d-0152d69f3d04",
   "metadata": {},
   "outputs": [],
   "source": [
    "# over the year participation of males and females\n",
    "\n",
    "men = athlete_df[athlete_df['Sex'] ==\"M\"].groupby(\"Year\").count()['Name'].reset_index()\n",
    "women = athlete_df[athlete_df['Sex'] ==\"F\"].groupby(\"Year\").count()['Name'].reset_index()"
   ]
  },
  {
   "cell_type": "code",
   "execution_count": 69,
   "id": "0edc7375-96a3-414c-87c4-e6a3d66f65b2",
   "metadata": {},
   "outputs": [],
   "source": [
    "final = men.merge(women , on = 'Year'  , how = 'left')\n",
    "final.rename(columns = {'Name_x':'Male' , \"Name_y\":'Female'}).fillna(0, inplace = True)"
   ]
  },
  {
   "cell_type": "code",
   "execution_count": 70,
   "id": "6a018daf-86e9-4250-870e-4070687a5ce9",
   "metadata": {},
   "outputs": [
    {
     "ename": "ValueError",
     "evalue": "All arguments should have the same length. The length of argument `y` is 2, whereas the length of  previously-processed arguments ['Year'] is 29",
     "output_type": "error",
     "traceback": [
      "\u001b[1;31m---------------------------------------------------------------------------\u001b[0m",
      "\u001b[1;31mValueError\u001b[0m                                Traceback (most recent call last)",
      "Cell \u001b[1;32mIn[70], line 1\u001b[0m\n\u001b[1;32m----> 1\u001b[0m fig \u001b[38;5;241m=\u001b[39m \u001b[43mpx\u001b[49m\u001b[38;5;241;43m.\u001b[39;49m\u001b[43mline\u001b[49m\u001b[43m(\u001b[49m\u001b[43mfinal\u001b[49m\u001b[43m \u001b[49m\u001b[43m,\u001b[49m\u001b[43m \u001b[49m\u001b[43mx\u001b[49m\u001b[38;5;241;43m=\u001b[39;49m\u001b[43m \u001b[49m\u001b[38;5;124;43m\"\u001b[39;49m\u001b[38;5;124;43mYear\u001b[39;49m\u001b[38;5;124;43m\"\u001b[39;49m\u001b[43m \u001b[49m\u001b[43m,\u001b[49m\u001b[43m \u001b[49m\u001b[43my\u001b[49m\u001b[43m \u001b[49m\u001b[38;5;241;43m=\u001b[39;49m\u001b[43m \u001b[49m\u001b[43m[\u001b[49m\u001b[38;5;124;43m'\u001b[39;49m\u001b[38;5;124;43mMale\u001b[39;49m\u001b[38;5;124;43m'\u001b[39;49m\u001b[43m,\u001b[49m\u001b[38;5;124;43m'\u001b[39;49m\u001b[38;5;124;43mFemale\u001b[39;49m\u001b[38;5;124;43m'\u001b[39;49m\u001b[43m]\u001b[49m\u001b[43m)\u001b[49m\n\u001b[0;32m      2\u001b[0m fig\u001b[38;5;241m.\u001b[39mshow()\n",
      "File \u001b[1;32m~\\AppData\\Local\\Programs\\Python\\Python312\\Lib\\site-packages\\plotly\\express\\_chart_types.py:264\u001b[0m, in \u001b[0;36mline\u001b[1;34m(data_frame, x, y, line_group, color, line_dash, symbol, hover_name, hover_data, custom_data, text, facet_row, facet_col, facet_col_wrap, facet_row_spacing, facet_col_spacing, error_x, error_x_minus, error_y, error_y_minus, animation_frame, animation_group, category_orders, labels, orientation, color_discrete_sequence, color_discrete_map, line_dash_sequence, line_dash_map, symbol_sequence, symbol_map, markers, log_x, log_y, range_x, range_y, line_shape, render_mode, title, template, width, height)\u001b[0m\n\u001b[0;32m    216\u001b[0m \u001b[38;5;28;01mdef\u001b[39;00m \u001b[38;5;21mline\u001b[39m(\n\u001b[0;32m    217\u001b[0m     data_frame\u001b[38;5;241m=\u001b[39m\u001b[38;5;28;01mNone\u001b[39;00m,\n\u001b[0;32m    218\u001b[0m     x\u001b[38;5;241m=\u001b[39m\u001b[38;5;28;01mNone\u001b[39;00m,\n\u001b[1;32m   (...)\u001b[0m\n\u001b[0;32m    258\u001b[0m     height\u001b[38;5;241m=\u001b[39m\u001b[38;5;28;01mNone\u001b[39;00m,\n\u001b[0;32m    259\u001b[0m ) \u001b[38;5;241m-\u001b[39m\u001b[38;5;241m>\u001b[39m go\u001b[38;5;241m.\u001b[39mFigure:\n\u001b[0;32m    260\u001b[0m \u001b[38;5;250m    \u001b[39m\u001b[38;5;124;03m\"\"\"\u001b[39;00m\n\u001b[0;32m    261\u001b[0m \u001b[38;5;124;03m    In a 2D line plot, each row of `data_frame` is represented as vertex of\u001b[39;00m\n\u001b[0;32m    262\u001b[0m \u001b[38;5;124;03m    a polyline mark in 2D space.\u001b[39;00m\n\u001b[0;32m    263\u001b[0m \u001b[38;5;124;03m    \"\"\"\u001b[39;00m\n\u001b[1;32m--> 264\u001b[0m     \u001b[38;5;28;01mreturn\u001b[39;00m \u001b[43mmake_figure\u001b[49m\u001b[43m(\u001b[49m\u001b[43margs\u001b[49m\u001b[38;5;241;43m=\u001b[39;49m\u001b[38;5;28;43mlocals\u001b[39;49m\u001b[43m(\u001b[49m\u001b[43m)\u001b[49m\u001b[43m,\u001b[49m\u001b[43m \u001b[49m\u001b[43mconstructor\u001b[49m\u001b[38;5;241;43m=\u001b[39;49m\u001b[43mgo\u001b[49m\u001b[38;5;241;43m.\u001b[39;49m\u001b[43mScatter\u001b[49m\u001b[43m)\u001b[49m\n",
      "File \u001b[1;32m~\\AppData\\Local\\Programs\\Python\\Python312\\Lib\\site-packages\\plotly\\express\\_core.py:2090\u001b[0m, in \u001b[0;36mmake_figure\u001b[1;34m(args, constructor, trace_patch, layout_patch)\u001b[0m\n\u001b[0;32m   2087\u001b[0m layout_patch \u001b[38;5;241m=\u001b[39m layout_patch \u001b[38;5;129;01mor\u001b[39;00m {}\n\u001b[0;32m   2088\u001b[0m apply_default_cascade(args)\n\u001b[1;32m-> 2090\u001b[0m args \u001b[38;5;241m=\u001b[39m \u001b[43mbuild_dataframe\u001b[49m\u001b[43m(\u001b[49m\u001b[43margs\u001b[49m\u001b[43m,\u001b[49m\u001b[43m \u001b[49m\u001b[43mconstructor\u001b[49m\u001b[43m)\u001b[49m\n\u001b[0;32m   2091\u001b[0m \u001b[38;5;28;01mif\u001b[39;00m constructor \u001b[38;5;129;01min\u001b[39;00m [go\u001b[38;5;241m.\u001b[39mTreemap, go\u001b[38;5;241m.\u001b[39mSunburst, go\u001b[38;5;241m.\u001b[39mIcicle] \u001b[38;5;129;01mand\u001b[39;00m args[\u001b[38;5;124m\"\u001b[39m\u001b[38;5;124mpath\u001b[39m\u001b[38;5;124m\"\u001b[39m] \u001b[38;5;129;01mis\u001b[39;00m \u001b[38;5;129;01mnot\u001b[39;00m \u001b[38;5;28;01mNone\u001b[39;00m:\n\u001b[0;32m   2092\u001b[0m     args \u001b[38;5;241m=\u001b[39m process_dataframe_hierarchy(args)\n",
      "File \u001b[1;32m~\\AppData\\Local\\Programs\\Python\\Python312\\Lib\\site-packages\\plotly\\express\\_core.py:1492\u001b[0m, in \u001b[0;36mbuild_dataframe\u001b[1;34m(args, constructor)\u001b[0m\n\u001b[0;32m   1489\u001b[0m     args[\u001b[38;5;124m\"\u001b[39m\u001b[38;5;124mcolor\u001b[39m\u001b[38;5;124m\"\u001b[39m] \u001b[38;5;241m=\u001b[39m \u001b[38;5;28;01mNone\u001b[39;00m\n\u001b[0;32m   1490\u001b[0m \u001b[38;5;66;03m# now that things have been prepped, we do the systematic rewriting of `args`\u001b[39;00m\n\u001b[1;32m-> 1492\u001b[0m df_output, wide_id_vars \u001b[38;5;241m=\u001b[39m \u001b[43mprocess_args_into_dataframe\u001b[49m\u001b[43m(\u001b[49m\n\u001b[0;32m   1493\u001b[0m \u001b[43m    \u001b[49m\u001b[43margs\u001b[49m\u001b[43m,\u001b[49m\u001b[43m \u001b[49m\u001b[43mwide_mode\u001b[49m\u001b[43m,\u001b[49m\u001b[43m \u001b[49m\u001b[43mvar_name\u001b[49m\u001b[43m,\u001b[49m\u001b[43m \u001b[49m\u001b[43mvalue_name\u001b[49m\n\u001b[0;32m   1494\u001b[0m \u001b[43m\u001b[49m\u001b[43m)\u001b[49m\n\u001b[0;32m   1496\u001b[0m \u001b[38;5;66;03m# now that `df_output` exists and `args` contains only references, we complete\u001b[39;00m\n\u001b[0;32m   1497\u001b[0m \u001b[38;5;66;03m# the special-case and wide-mode handling by further rewriting args and/or mutating\u001b[39;00m\n\u001b[0;32m   1498\u001b[0m \u001b[38;5;66;03m# df_output\u001b[39;00m\n\u001b[0;32m   1500\u001b[0m count_name \u001b[38;5;241m=\u001b[39m _escape_col_name(df_output, \u001b[38;5;124m\"\u001b[39m\u001b[38;5;124mcount\u001b[39m\u001b[38;5;124m\"\u001b[39m, [var_name, value_name])\n",
      "File \u001b[1;32m~\\AppData\\Local\\Programs\\Python\\Python312\\Lib\\site-packages\\plotly\\express\\_core.py:1253\u001b[0m, in \u001b[0;36mprocess_args_into_dataframe\u001b[1;34m(args, wide_mode, var_name, value_name)\u001b[0m\n\u001b[0;32m   1250\u001b[0m         col_name \u001b[38;5;241m=\u001b[39m _check_name_not_reserved(field, reserved_names)\n\u001b[0;32m   1252\u001b[0m     \u001b[38;5;28;01mif\u001b[39;00m length \u001b[38;5;129;01mand\u001b[39;00m \u001b[38;5;28mlen\u001b[39m(argument) \u001b[38;5;241m!=\u001b[39m length:\n\u001b[1;32m-> 1253\u001b[0m         \u001b[38;5;28;01mraise\u001b[39;00m \u001b[38;5;167;01mValueError\u001b[39;00m(\n\u001b[0;32m   1254\u001b[0m             \u001b[38;5;124m\"\u001b[39m\u001b[38;5;124mAll arguments should have the same length. \u001b[39m\u001b[38;5;124m\"\u001b[39m\n\u001b[0;32m   1255\u001b[0m             \u001b[38;5;124m\"\u001b[39m\u001b[38;5;124mThe length of argument `\u001b[39m\u001b[38;5;132;01m%s\u001b[39;00m\u001b[38;5;124m` is \u001b[39m\u001b[38;5;132;01m%d\u001b[39;00m\u001b[38;5;124m, whereas the \u001b[39m\u001b[38;5;124m\"\u001b[39m\n\u001b[0;32m   1256\u001b[0m             \u001b[38;5;124m\"\u001b[39m\u001b[38;5;124mlength of  previously-processed arguments \u001b[39m\u001b[38;5;132;01m%s\u001b[39;00m\u001b[38;5;124m is \u001b[39m\u001b[38;5;132;01m%d\u001b[39;00m\u001b[38;5;124m\"\u001b[39m\n\u001b[0;32m   1257\u001b[0m             \u001b[38;5;241m%\u001b[39m (field, \u001b[38;5;28mlen\u001b[39m(argument), \u001b[38;5;28mstr\u001b[39m(\u001b[38;5;28mlist\u001b[39m(df_output\u001b[38;5;241m.\u001b[39mkeys())), length)\n\u001b[0;32m   1258\u001b[0m         )\n\u001b[0;32m   1259\u001b[0m     df_output[\u001b[38;5;28mstr\u001b[39m(col_name)] \u001b[38;5;241m=\u001b[39m to_unindexed_series(argument, \u001b[38;5;28mstr\u001b[39m(col_name))\n\u001b[0;32m   1261\u001b[0m \u001b[38;5;66;03m# Finally, update argument with column name now that column exists\u001b[39;00m\n",
      "\u001b[1;31mValueError\u001b[0m: All arguments should have the same length. The length of argument `y` is 2, whereas the length of  previously-processed arguments ['Year'] is 29"
     ]
    }
   ],
   "source": [
    "fig = px.line(final , x= \"Year\" , y = ['Male','Female'])\n",
    "fig.show()"
   ]
  },
  {
   "cell_type": "code",
   "execution_count": null,
   "id": "00694262-dad9-4feb-b08f-ca1b34890dcc",
   "metadata": {},
   "outputs": [],
   "source": []
  }
 ],
 "metadata": {
  "kernelspec": {
   "display_name": "Python 3 (ipykernel)",
   "language": "python",
   "name": "python3"
  },
  "language_info": {
   "codemirror_mode": {
    "name": "ipython",
    "version": 3
   },
   "file_extension": ".py",
   "mimetype": "text/x-python",
   "name": "python",
   "nbconvert_exporter": "python",
   "pygments_lexer": "ipython3",
   "version": "3.12.3"
  }
 },
 "nbformat": 4,
 "nbformat_minor": 5
}
